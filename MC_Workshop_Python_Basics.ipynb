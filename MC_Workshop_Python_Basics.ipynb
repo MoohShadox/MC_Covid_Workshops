{
 "cells": [
  {
   "cell_type": "markdown",
   "metadata": {
    "colab_type": "text",
    "id": "THOlRzYUF_Ii"
   },
   "source": [
    "Pour commencer on va s'intéresser a tous ce qui se fait fréquement lors de la résolution d'un problème d'algorithmique."
   ]
  },
  {
   "cell_type": "markdown",
   "metadata": {
    "colab_type": "text",
    "id": "0j9pZvNeGV5C"
   },
   "source": [
    "# Manipulations fondamentales\n",
    " - Manipulation des types de base \n",
    " - Instructions conditionnelles et boucles\n",
    " - Utiliser les collections pour implémenter des structures de données\n",
    " - Définir une fonction\n",
    " - Définir une classe"
   ]
  },
  {
   "cell_type": "code",
   "execution_count": 14,
   "metadata": {
    "colab": {
     "base_uri": "https://localhost:8080/",
     "height": 90
    },
    "colab_type": "code",
    "id": "M2D5_OjuGVKw",
    "outputId": "83380319-5df2-4199-85b6-bf312acb0694"
   },
   "outputs": [
    {
     "name": "stdout",
     "output_type": "stream",
     "text": [
      "3\n",
      "5\n",
      "3.9\n",
      "Hello world.\n"
     ]
    }
   ],
   "source": [
    "\n",
    "# Manipuler les types de bases \n",
    "myvar = 3\n",
    "print(myvar)\n",
    "myvar += 2\n",
    "print(myvar)\n",
    "myvar -= 1.1\n",
    "print(myvar)\n",
    "mystring = \"Hello\"\n",
    "mystring += \" world.\"\n",
    "print(mystring)\n",
    "myvar, mystring = mystring, myvar"
   ]
  },
  {
   "cell_type": "code",
   "execution_count": 0,
   "metadata": {
    "colab": {},
    "colab_type": "code",
    "id": "yg6JaeANPac2"
   },
   "outputs": [],
   "source": [
    "print(\"Name: %s\\\n",
    "Number: %s\\\n",
    "String: %s\" % (myclass.name, 3, 3 * \"-\"))\n",
    "strString = \"\"\"Ceci est \n",
    "une multiline\n",
    "string.\"\"\"\n",
    "print(strString)\n",
    "print(\"This %(verb)s a %(noun)s.\" % {\"noun\": \"test\", \"verb\": \"is\"})\n",
    "name = \"Stavros\"\n",
    "print(\"Hello, {}!\".format(name))\n",
    "print(f\"Hello, {name}!\")"
   ]
  },
  {
   "cell_type": "code",
   "execution_count": 0,
   "metadata": {
    "colab": {},
    "colab_type": "code",
    "id": "Zuv6leR8Oscq"
   },
   "outputs": [],
   "source": [
    "#Structure de données  \n",
    "sample = [1, [\"another\", \"list\"], (\"a\", \"tuple\")]\n",
    "mylist = [\"List item 1\", 2, 3.14]\n",
    "mydict = {\"Key 1\": \"Value 1\", 2: 3, \"pi\": 3.14}\n",
    "mytuple = (1, 2, 3)\n",
    "myfunction = len\n",
    "print(myfunction(mylist))\n",
    "#Définir une fonction\n",
    "def f1(x,y):\n",
    "  print(\"Valeur de x : \",x)\n",
    "  return x+y"
   ]
  },
  {
   "cell_type": "code",
   "execution_count": 8,
   "metadata": {
    "colab": {
     "base_uri": "https://localhost:8080/",
     "height": 126
    },
    "colab_type": "code",
    "id": "jFJKVGvvQ5Jc",
    "outputId": "93bb0f6d-2c3c-4711-98fa-ad64434953bd"
   },
   "outputs": [
    {
     "name": "stdout",
     "output_type": "stream",
     "text": [
      "Donner un nombre : 18\n",
      "Pair\n",
      "Congru a 0 mod 3 \n",
      "1 est de type : \n",
      "2 est de type : \n",
      "3.0 est de type : \n"
     ]
    }
   ],
   "source": [
    "#Structures conditionnelles\n",
    "x = input(\"Donner un nombre : \")\n",
    "x= int(x)\n",
    "if(x%2 == 0):\n",
    "  print(\"Pair\")\n",
    "else:\n",
    "  print(\"Impair\")\n",
    "\n",
    "if(x%3 == 0):\n",
    "  print(\"Congru a {} mod {} \".format(0,3))\n",
    "elif(x%3 == 1):\n",
    "  print(\"Congru a {} mod {} \".format(0,3))\n",
    "else:\n",
    "  print(\"Congru a {} mod {} \".format(0,3))\n"
   ]
  },
  {
   "cell_type": "code",
   "execution_count": 10,
   "metadata": {
    "colab": {
     "base_uri": "https://localhost:8080/",
     "height": 108
    },
    "colab_type": "code",
    "id": "pOU5SYVOSP6V",
    "outputId": "32c29607-94d6-4b1a-c467-4db317e71adf"
   },
   "outputs": [
    {
     "name": "stdout",
     "output_type": "stream",
     "text": [
      "1 est de type : <class 'str'>\n",
      "2 est de type : <class 'int'>\n",
      "3.0 est de type : <class 'float'>\n",
      "2 est de type : <class 'int'>\n",
      "3.0 est de type : <class 'float'>\n"
     ]
    }
   ],
   "source": [
    "#Boucles \n",
    "L = [\"1\", 2 , 3.0]\n",
    "for i in L:\n",
    "  print(\"{} est de type : {}\".format(i,type(i)))\n",
    "\n",
    "\n"
   ]
  },
  {
   "cell_type": "code",
   "execution_count": 11,
   "metadata": {
    "colab": {
     "base_uri": "https://localhost:8080/",
     "height": 54
    },
    "colab_type": "code",
    "id": "eDa5wl9mTEiD",
    "outputId": "0917989e-3acd-4b95-86b0-53724ace8677"
   },
   "outputs": [
    {
     "name": "stdout",
     "output_type": "stream",
     "text": [
      "2 est de type : <class 'int'>\n",
      "3.0 est de type : <class 'float'>\n"
     ]
    }
   ],
   "source": [
    "L = [ 2,\"to skip\", 3.0,\"ne vas pas s'afficher\", \"Non plus\", \"Et ça non plus\"]\n",
    "#Structure de controle \n",
    "for i in L:\n",
    "  if( i == \"to skip\"):\n",
    "    continue\n",
    "  print(\"{} est de type : {}\".format(i,type(i)))\n",
    "  if(i == 3):\n",
    "    break"
   ]
  },
  {
   "cell_type": "markdown",
   "metadata": {
    "colab_type": "text",
    "id": "AxPjK9d0TLLG"
   },
   "source": [
    "**Exercice 01 Le test de primalité** \\\\\n",
    "L'objectif de cet exercice est d'implémenter un test permettant de vérifier si un nombre est premier ou non."
   ]
  },
  {
   "cell_type": "code",
   "execution_count": 15,
   "metadata": {
    "colab": {
     "base_uri": "https://localhost:8080/",
     "height": 35
    },
    "colab_type": "code",
    "id": "I2hksBmZTd9A",
    "outputId": "ddf878bc-e6a4-4949-bc38-dc45607ec68f"
   },
   "outputs": [
    {
     "name": "stdout",
     "output_type": "stream",
     "text": [
      "la racine de 9 est 3.0\n"
     ]
    }
   ],
   "source": [
    "##a votre tour.\n",
    "import math\n",
    "from random import randint\n",
    "import numpy as np\n",
    "print(\"la racine de {} est {}\".format(9,math.sqrt(9)))\n",
    "\n",
    "#Test naif de primalité \n",
    "def premier(x):\n",
    "  for i in range(2,int(math.sqrt(x)+1)):\n",
    "    if(x%i == 0):\n",
    "      return False\n",
    "  return True"
   ]
  },
  {
   "cell_type": "markdown",
   "metadata": {
    "colab_type": "text",
    "id": "0keqzqyHJ_fy"
   },
   "source": [
    "# Manipulations python-like\n",
    " - Parametrage dynamique d'une fonction \n",
    " - Intention Lists\n",
    " - Generateurs \n",
    " - Lambda notation"
   ]
  },
  {
   "cell_type": "code",
   "execution_count": 18,
   "metadata": {
    "colab": {
     "base_uri": "https://localhost:8080/",
     "height": 35
    },
    "colab_type": "code",
    "id": "F1DuRoeYc5nH",
    "outputId": "939f4872-7c3e-4b86-a734-c0cee4977733"
   },
   "outputs": [
    {
     "name": "stdout",
     "output_type": "stream",
     "text": [
      "(10, 2, 3) est de type : <class 'tuple'>\n"
     ]
    }
   ],
   "source": [
    "def f(*x):\n",
    "  print(\"{} est de type : {}\".format(x,type(x)))\n",
    "\n",
    "x = 10\n",
    "f(x,2,3)"
   ]
  },
  {
   "cell_type": "code",
   "execution_count": 19,
   "metadata": {
    "colab": {
     "base_uri": "https://localhost:8080/",
     "height": 35
    },
    "colab_type": "code",
    "id": "xvz1tY1bdEeh",
    "outputId": "456859af-70a5-46eb-cb6b-ff96e954c934"
   },
   "outputs": [
    {
     "name": "stdout",
     "output_type": "stream",
     "text": [
      "{'k': 5} est de type : <class 'dict'>\n"
     ]
    }
   ],
   "source": [
    "def g(**x):\n",
    "  print(\"{} est de type : {}\".format(x,type(x)))\n",
    "\n",
    "g(k=5)"
   ]
  },
  {
   "cell_type": "code",
   "execution_count": 26,
   "metadata": {
    "colab": {
     "base_uri": "https://localhost:8080/",
     "height": 72
    },
    "colab_type": "code",
    "id": "DgEno-cYdjM4",
    "outputId": "323b572c-5387-4e25-f136-2ce90df6ba85"
   },
   "outputs": [
    {
     "name": "stdout",
     "output_type": "stream",
     "text": [
      "range(0, 10)\n",
      "[0, 1, 2, 3, 4, 5, 6, 7, 8, 9]\n",
      "pairs :  [0, 2, 4, 6, 8]\n"
     ]
    }
   ],
   "source": [
    "print(range(10))\n",
    "L = list(range(10))\n",
    "print(L)\n",
    "pairs = [i for i in L if i%2==0]\n",
    "print(\"pairs : \",pairs)"
   ]
  },
  {
   "cell_type": "code",
   "execution_count": 28,
   "metadata": {
    "colab": {
     "base_uri": "https://localhost:8080/",
     "height": 381
    },
    "colab_type": "code",
    "id": "G4_Eh3rBV3Vy",
    "outputId": "a387f04f-0de6-491e-d708-5911f417318d"
   },
   "outputs": [
    {
     "name": "stdout",
     "output_type": "stream",
     "text": [
      "x= 0\n",
      "y= 3\n",
      "x= 1\n",
      "y= 4\n",
      "x= 2\n",
      "y= 5\n",
      "x= 3\n",
      "y= 6\n",
      "x= 4\n",
      "y= 7\n",
      "x= 5\n",
      "y= 8\n",
      "x= 6\n",
      "y= 9\n",
      "x= 7\n",
      "y= 10\n",
      "x= 8\n",
      "y= 11\n",
      "x= 9\n",
      "y= 12\n"
     ]
    }
   ],
   "source": [
    "def fonction(x):\n",
    "  print(\"x=\",x)\n",
    "  return x+3\n",
    "\n",
    "for i in L:\n",
    "  y = fonction(i)\n",
    "  print(\"y=\",y)"
   ]
  },
  {
   "cell_type": "code",
   "execution_count": 33,
   "metadata": {
    "colab": {
     "base_uri": "https://localhost:8080/",
     "height": 126
    },
    "colab_type": "code",
    "id": "k7TnjFKTW7cO",
    "outputId": "d36b3c80-0145-4c15-e038-d7bc44a490a5"
   },
   "outputs": [
    {
     "name": "stdout",
     "output_type": "stream",
     "text": [
      "x= 0\n",
      "x= 2\n",
      "x= 4\n",
      "x= 6\n",
      "x= 8\n",
      "[3, 5, 7, 9, 11]\n"
     ]
    }
   ],
   "source": [
    "result = map(fonction, pairs) \n",
    "print(list(result)) "
   ]
  },
  {
   "cell_type": "code",
   "execution_count": 5,
   "metadata": {
    "colab": {
     "base_uri": "https://localhost:8080/",
     "height": 72
    },
    "colab_type": "code",
    "id": "TYkiQmIjXFQm",
    "outputId": "90e5a75d-f83d-4fd0-f041-07b0572338a4"
   },
   "outputs": [
    {
     "name": "stdout",
     "output_type": "stream",
     "text": [
      "1\n",
      "2\n",
      "3\n"
     ]
    }
   ],
   "source": [
    "def gen_pairs():\n",
    "  i = 0\n",
    "  while(True):\n",
    "    i = i + 1\n",
    "    yield i\n",
    "\n",
    "r = gen_pairs()\n",
    "print(next(r))\n",
    "print(next(r))\n",
    "print(next(r))"
   ]
  },
  {
   "cell_type": "markdown",
   "metadata": {
    "colab_type": "text",
    "id": "yS12nUvGcPrI"
   },
   "source": [
    "**Exercice 02 Générateur de nombres premiers**"
   ]
  },
  {
   "cell_type": "code",
   "execution_count": 0,
   "metadata": {
    "colab": {},
    "colab_type": "code",
    "id": "Yq5WM8EdbL8F"
   },
   "outputs": [],
   "source": [
    "\"\"\"\n",
    "Genere un nombre entier d'une taille binaire donnée\n",
    "\"\"\"\n",
    "def random_binary(taille):\n",
    "  pass"
   ]
  },
  {
   "cell_type": "code",
   "execution_count": 9,
   "metadata": {
    "colab": {
     "base_uri": "https://localhost:8080/",
     "height": 35
    },
    "colab_type": "code",
    "id": "JEVzV1S8b12v",
    "outputId": "387c6b58-f9ef-40cd-b3a4-522b117f2858"
   },
   "outputs": [
    {
     "name": "stdout",
     "output_type": "stream",
     "text": [
      "541\n"
     ]
    }
   ],
   "source": [
    "\n",
    "#Test de fermat \n",
    "def test_fermat(p):\n",
    "  pass\n",
    "\n",
    "\n",
    "\"\"\"\n",
    "Génère des nombre premiers a l'infini\n",
    "Args : \n",
    "  - Taille binaire des nombres a générer\n",
    "  - Fonction servant de test (par defaut le test naif)\n",
    "\"\"\"\n",
    "def generateur_primal(taille_binaire,test_fonction=premier):\n",
    "    pass\n",
    "\n",
    "g = generateur_primal(10)\n",
    "print(next(g))"
   ]
  },
  {
   "cell_type": "code",
   "execution_count": 211,
   "metadata": {
    "colab": {
     "base_uri": "https://localhost:8080/",
     "height": 35
    },
    "colab_type": "code",
    "id": "73PV2NI4fDa3",
    "outputId": "062cb5e1-1da1-471c-cf20-957a22ac6a78"
   },
   "outputs": [
    {
     "name": "stdout",
     "output_type": "stream",
     "text": [
      "True\n"
     ]
    }
   ],
   "source": [
    "print(premier(276217239888299))"
   ]
  },
  {
   "cell_type": "code",
   "execution_count": 212,
   "metadata": {
    "colab": {
     "base_uri": "https://localhost:8080/",
     "height": 35
    },
    "colab_type": "code",
    "id": "doNUQ_c8fxlz",
    "outputId": "ee7c4eee-e6ff-494f-fbbe-756c6a82d8a3"
   },
   "outputs": [
    {
     "name": "stdout",
     "output_type": "stream",
     "text": [
      "True\n"
     ]
    }
   ],
   "source": [
    "print(test_fermat(276217239888299))"
   ]
  },
  {
   "cell_type": "code",
   "execution_count": 247,
   "metadata": {
    "colab": {
     "base_uri": "https://localhost:8080/",
     "height": 55
    },
    "colab_type": "code",
    "id": "Xhn-1-OngzI0",
    "outputId": "56a5e380-bf2c-498a-f15c-cda6627fd301"
   },
   "outputs": [
    {
     "name": "stdout",
     "output_type": "stream",
     "text": [
      "1445088477823257352215872603811224248578814344065993217236967055096744599335231744587901520758690135528049350650010895832122941155402689265083622387667\n"
     ]
    }
   ],
   "source": [
    "g = generateur_primal(500,test_fermat)\n",
    "print(next(g))"
   ]
  },
  {
   "cell_type": "code",
   "execution_count": 242,
   "metadata": {
    "colab": {
     "base_uri": "https://localhost:8080/",
     "height": 35
    },
    "colab_type": "code",
    "id": "QUDwaIFyDCul",
    "outputId": "28f39157-6b71-4973-94cf-10749273b4cb"
   },
   "outputs": [
    {
     "name": "stdout",
     "output_type": "stream",
     "text": [
      "6761\n"
     ]
    }
   ],
   "source": [
    "g = generateur_primal(15,premier)\n",
    "print(next(g))"
   ]
  },
  {
   "cell_type": "code",
   "execution_count": 215,
   "metadata": {
    "colab": {
     "base_uri": "https://localhost:8080/",
     "height": 199
    },
    "colab_type": "code",
    "id": "FJn-yzt5jkm_",
    "outputId": "6966cc8c-be6e-42a9-947c-0ad94d3e9d9c"
   },
   "outputs": [
    {
     "name": "stdout",
     "output_type": "stream",
     "text": [
      "988 est pseudo premier de fermat \n",
      "133 est pseudo premier de fermat \n",
      "533 est pseudo premier de fermat \n",
      "35 est pseudo premier de fermat \n",
      "561 est pseudo premier de fermat \n",
      "171 est pseudo premier de fermat \n",
      "91 est pseudo premier de fermat \n",
      "35 est pseudo premier de fermat \n",
      "697 est pseudo premier de fermat \n",
      "177 est pseudo premier de fermat \n"
     ]
    }
   ],
   "source": [
    "g = generateur_primal(10,test_fermat)\n",
    "for i in range(200):\n",
    "  n = next(g)\n",
    "  if(not premier(n)):\n",
    "    print(\"{} est pseudo premier de fermat \".format(n))"
   ]
  },
  {
   "cell_type": "code",
   "execution_count": 216,
   "metadata": {
    "colab": {
     "base_uri": "https://localhost:8080/",
     "height": 35
    },
    "colab_type": "code",
    "id": "_6aT19JYjltp",
    "outputId": "96c50983-18c4-420a-f6c3-00702b3227b5"
   },
   "outputs": [
    {
     "data": {
      "text/plain": [
       "425"
      ]
     },
     "execution_count": 216,
     "metadata": {
      "tags": []
     },
     "output_type": "execute_result"
    }
   ],
   "source": [
    "def pseudo_premier_base(p):\n",
    "  for a in range(3,p-1):\n",
    "      if pow(a,p-1,p) == 1:\n",
    "        return a\n",
    "\n",
    "pseudo_premier_base(988)"
   ]
  },
  {
   "cell_type": "code",
   "execution_count": 249,
   "metadata": {
    "colab": {
     "base_uri": "https://localhost:8080/",
     "height": 1000
    },
    "colab_type": "code",
    "id": "QCmBs59uEs2l",
    "outputId": "b2e773c5-9715-4a45-8346-25306361ee10"
   },
   "outputs": [
    {
     "name": "stdout",
     "output_type": "stream",
     "text": [
      ".\n",
      "....................................................................................................\n",
      "....................................................................................................\n",
      "....................................................................................................\n",
      "....................................................................................................\n",
      "....................................................................................................\n",
      "....................................................................................................\n",
      "....................................................................................................\n",
      "....................................................................................................\n",
      "....................................................................................................\n",
      "....................................................................................................\n",
      "....................................................................................................\n",
      "....................................................................................................\n",
      "....................................................................................................\n",
      "....................................................................................................\n",
      "....................................................................................................\n",
      "....................................................................................................\n",
      "....................................................................................................\n",
      "....................................................................................................\n",
      "....................................................................................................\n",
      "....................................................................................................\n",
      "....................................................................................................\n",
      "....................................................................................................\n",
      "....................................................................................................\n",
      "....................................................................................................\n",
      "....................................................................................................\n",
      "....................................................................................................\n",
      "....................................................................................................\n",
      "....................................................................................................\n",
      "....................................................................................................\n",
      "....................................................................................................\n",
      "....................................................................................................\n",
      "....................................................................................................\n",
      "....................................................................................................\n",
      "....................................................................................................\n",
      "....................................................................................................\n",
      "....................................................................................................\n",
      "....................................................................................................\n",
      "....................................................................................................\n",
      "....................................................................................................\n",
      "....................................................................................................\n",
      "....................................................................................................\n",
      "....................................................................................................\n",
      "....................................................................................................\n",
      "....................................................................................................\n",
      "....................................................................................................\n",
      "....................................................................................................\n",
      "....................................................................................................\n",
      "....................................................................................................\n",
      "....................................................................................................\n",
      "....................................................................................................\n",
      "....................................................................................................\n",
      "....................................................................................................\n",
      "....................................................................................................\n",
      "....................................................................................................\n",
      "....................................................................................................\n",
      "....................................................................................................\n",
      "....................................................................................................\n",
      "....................................................................................................\n",
      "....................................................................................................\n",
      "....................................................................................................\n",
      "....................................................................................................\n",
      "....................................................................................................\n",
      "....................................................................................................\n",
      "....................................................................................................\n",
      "....................................................................................................\n",
      "....................................................................................................\n",
      "....................................................................................................\n",
      "....................................................................................................\n",
      "....................................................................................................\n",
      "....................................................................................................\n",
      "....................................................................................................\n",
      "....................................................................................................\n",
      "....................................................................................................\n",
      "....................................................................................................\n",
      "....................................................................................................\n",
      "....................................................................................................\n",
      "....................................................................................................\n",
      "....................................................................................................\n",
      "....................................................................................................\n",
      "....................................................................................................\n",
      "....................................................................................................\n",
      "....................................................................................................\n",
      "....................................................................................................\n",
      "....................................................................................................\n",
      "....................................................................................................\n",
      "....................................................................................................\n",
      "....................................................................................................\n",
      "....................................................................................................\n",
      "....................................................................................................\n",
      "....................................................................................................\n",
      "....................................................................................................\n",
      "....................................................................................................\n",
      "....................................................................................................\n",
      "....................................................................................................\n",
      "....................................................................................................\n",
      "....................................................................................................\n",
      "....................................................................................................\n",
      "....................................................................................................\n",
      "....................................................................................................\n",
      "..................................................................................................."
     ]
    }
   ],
   "source": [
    "\n",
    "def test_fermat2(p,retry = 30):\n",
    "    pass\n",
    "\n",
    "\n",
    "g = generateur_primal(15,test_fermat2)\n",
    "for i in range(10000):\n",
    "  n = next(g)\n",
    "  if(not premier(n)):\n",
    "    print(\" \\n {} est pseudo premier de fermat \".format(n))\n",
    "  else:\n",
    "      print(\".\",end=\"\")\n",
    "      if(i%100==0):\n",
    "        print(\"\")"
   ]
  },
  {
   "cell_type": "markdown",
   "metadata": {
    "colab_type": "text",
    "id": "4o7asltqVY-z"
   },
   "source": [
    "**Bonus : Comment Visualiser et comparer les performances de plusieurs algorithmes**\n"
   ]
  },
  {
   "cell_type": "code",
   "execution_count": 16,
   "metadata": {
    "colab": {
     "base_uri": "https://localhost:8080/",
     "height": 54
    },
    "colab_type": "code",
    "id": "R70Tm-l-NOXK",
    "outputId": "ed86e922-2d2b-4c77-ae49-37489b336aa0"
   },
   "outputs": [
    {
     "name": "stdout",
     "output_type": "stream",
     "text": [
      "[-15.   -7.5   0.    7.5  15. ]\n",
      "[1128.    284.25    3.    284.25 1128.  ]\n"
     ]
    }
   ],
   "source": [
    "#Visualiser une courbe\n",
    "import matplotlib.pyplot as plt\n",
    "\n",
    "X = np.linspace(-15,15,5)\n",
    "Y = 5 * X**2 + 3 \n",
    "print(X)\n",
    "print(Y)"
   ]
  },
  {
   "cell_type": "code",
   "execution_count": 275,
   "metadata": {
    "colab": {
     "base_uri": "https://localhost:8080/",
     "height": 276
    },
    "colab_type": "code",
    "id": "6XRcbfcTPIu2",
    "outputId": "45f5707b-f8a4-47c4-8901-22e45a4a71e3"
   },
   "outputs": [
    {
     "data": {
      "image/png": "[encoded data removed]",
      "text/plain": [
       "<Figure size 432x288 with 1 Axes>"
      ]
     },
     "metadata": {
      "needs_background": "light",
      "tags": []
     },
     "output_type": "display_data"
    }
   ],
   "source": [
    "X = np.linspace(0,100,100)\n",
    "Y = 5 * X**50 + 3 \n",
    "plt.plot(X,Y)\n",
    "plt.show()"
   ]
  },
  {
   "cell_type": "code",
   "execution_count": 277,
   "metadata": {
    "colab": {
     "base_uri": "https://localhost:8080/",
     "height": 276
    },
    "colab_type": "code",
    "id": "M_eEviRhV-Hw",
    "outputId": "2c28ea3f-99b3-4d31-e01e-fd8cbc1212ae"
   },
   "outputs": [
    {
     "data": {
      "image/png": "[encoded data removed]",
      "text/plain": [
       "<Figure size 432x288 with 1 Axes>"
      ]
     },
     "metadata": {
      "needs_background": "light",
      "tags": []
     },
     "output_type": "display_data"
    }
   ],
   "source": [
    "Y2 = X*np.exp(X+5)\n",
    "plt.plot(X,Y2)\n",
    "plt.show()"
   ]
  },
  {
   "cell_type": "code",
   "execution_count": 283,
   "metadata": {
    "colab": {
     "base_uri": "https://localhost:8080/",
     "height": 569
    },
    "colab_type": "code",
    "id": "jVN2LkJVWeqj",
    "outputId": "b73894bf-f5b2-47e2-f449-e97d293d3b32"
   },
   "outputs": [
    {
     "data": {
      "image/png": "[encoded data removed]",
      "text/plain": [
       "<Figure size 432x288 with 1 Axes>"
      ]
     },
     "metadata": {
      "needs_background": "light",
      "tags": []
     },
     "output_type": "display_data"
    },
    {
     "name": "stderr",
     "output_type": "stream",
     "text": [
      "/usr/local/lib/python3.6/dist-packages/ipykernel_launcher.py:3: RuntimeWarning: divide by zero encountered in log\n",
      "  This is separate from the ipykernel package so we can avoid doing imports until\n"
     ]
    },
    {
     "data": {
      "image/png": "[encoded data removed]",
      "text/plain": [
       "<Figure size 432x288 with 1 Axes>"
      ]
     },
     "metadata": {
      "needs_background": "light",
      "tags": []
     },
     "output_type": "display_data"
    }
   ],
   "source": [
    "#Passage a l'echelle log\n",
    "plt.plot(X,np.log(Y))\n",
    "plt.show()\n",
    "plt.plot(X,np.log(Y2))\n",
    "plt.show()"
   ]
  },
  {
   "cell_type": "code",
   "execution_count": 284,
   "metadata": {
    "colab": {
     "base_uri": "https://localhost:8080/",
     "height": 605
    },
    "colab_type": "code",
    "id": "ZyrCtBbDXL7h",
    "outputId": "eefaeaa2-5518-471f-fb12-950de5f1b9c6"
   },
   "outputs": [
    {
     "name": "stderr",
     "output_type": "stream",
     "text": [
      "/usr/local/lib/python3.6/dist-packages/ipykernel_launcher.py:1: RuntimeWarning: divide by zero encountered in log\n",
      "  \"\"\"Entry point for launching an IPython kernel.\n"
     ]
    },
    {
     "data": {
      "image/png": "[encoded data removed]",
      "text/plain": [
       "<Figure size 432x288 with 1 Axes>"
      ]
     },
     "metadata": {
      "needs_background": "light",
      "tags": []
     },
     "output_type": "display_data"
    },
    {
     "name": "stderr",
     "output_type": "stream",
     "text": [
      "/usr/local/lib/python3.6/dist-packages/ipykernel_launcher.py:3: RuntimeWarning: divide by zero encountered in log\n",
      "  This is separate from the ipykernel package so we can avoid doing imports until\n"
     ]
    },
    {
     "data": {
      "image/png": "[encoded data removed]",
      "text/plain": [
       "<Figure size 432x288 with 1 Axes>"
      ]
     },
     "metadata": {
      "needs_background": "light",
      "tags": []
     },
     "output_type": "display_data"
    }
   ],
   "source": [
    "#Passage a l'echelle loglog\n",
    "plt.plot(np.log(X),np.log(Y))\n",
    "plt.show()\n",
    "plt.plot(np.log(X),np.log(Y2))\n",
    "plt.show()"
   ]
  },
  {
   "cell_type": "code",
   "execution_count": 291,
   "metadata": {
    "colab": {
     "base_uri": "https://localhost:8080/",
     "height": 92
    },
    "colab_type": "code",
    "id": "sPceH9h-Xuaw",
    "outputId": "165d1dcc-8d04-47ef-9c30-1dd60723a122"
   },
   "outputs": [
    {
     "name": "stdout",
     "output_type": "stream",
     "text": [
      "49.99999999999986\n"
     ]
    },
    {
     "name": "stderr",
     "output_type": "stream",
     "text": [
      "/usr/local/lib/python3.6/dist-packages/ipykernel_launcher.py:1: RuntimeWarning: divide by zero encountered in log\n",
      "  \"\"\"Entry point for launching an IPython kernel.\n"
     ]
    }
   ],
   "source": [
    "logX, logY = np.log(X),np.log(Y)\n",
    "pente = (logY[10]-logY[11]) / (logX[10]-logX[11])\n",
    "print(pente)"
   ]
  },
  {
   "cell_type": "markdown",
   "metadata": {
    "colab_type": "text",
    "id": "TBgYl_SrYjdT"
   },
   "source": [
    "**Exercice 03 Visualiser et comparer les performances des algorithmes de tests de primalité**"
   ]
  },
  {
   "cell_type": "code",
   "execution_count": 37,
   "metadata": {
    "colab": {
     "base_uri": "https://localhost:8080/",
     "height": 872
    },
    "colab_type": "code",
    "id": "irmfDxlMYAcq",
    "outputId": "fc243bc7-5ec7-4bcc-9d83-84b83f0ce554"
   },
   "outputs": [
    {
     "name": "stdout",
     "output_type": "stream",
     "text": [
      "Taille =  5\n",
      "Taille =  6\n",
      "Taille =  7\n",
      "Taille =  8\n",
      "Taille =  9\n",
      "Taille =  10\n",
      "Taille =  11\n",
      "Taille =  12\n",
      "Taille =  13\n",
      "Taille =  14\n",
      "Taille =  15\n",
      "Taille =  16\n",
      "Taille =  17\n",
      "Taille =  18\n",
      "Taille =  19\n",
      "Taille =  20\n",
      "Taille =  21\n",
      "Taille =  22\n",
      "Taille =  23\n",
      "Taille =  24\n",
      "Taille =  25\n",
      "Taille =  26\n",
      "Taille =  27\n",
      "Taille =  28\n",
      "Taille =  29\n",
      "Taille =  30\n",
      "Taille =  31\n",
      "Taille =  32\n",
      "Taille =  33\n",
      "Taille =  34\n",
      "Taille =  35\n",
      "Taille =  36\n",
      "Taille =  37\n",
      "Taille =  38\n",
      "Taille =  39\n",
      "Taille =  40\n",
      "Taille =  41\n",
      "Taille =  42\n",
      "Taille =  43\n",
      "Taille =  44\n",
      "Taille =  45\n",
      "Taille =  46\n",
      "Taille =  47\n",
      "Taille =  48\n",
      "Taille =  49\n",
      "Taille =  50\n",
      "Taille =  51\n"
     ]
    }
   ],
   "source": [
    "\"\"\"\n",
    "Coder une scripte permettant de remplire 3 liste : \n",
    "  - La première avec plusieurs tailles binaires\n",
    "  - La seconde contenant le temps de génération d'un nombre de la taille correspondante\n",
    "  avec l'algorithme naif\n",
    "  - La troisieme avec le temps de génération en utilisant un test de fermat.\n",
    "\"\"\"\n",
    "tailles, naif_moy, fermat_moy = [],[],[]\n",
    "import time\n",
    "for taille in range(5,52):\n",
    "  print(\"Taille = \", taille)\n",
    "  tailles.append(taille)\n",
    "  naif, fermat = [],[]\n",
    "  for i in range(5,1000):\n",
    "    n = random_binary(taille)\n",
    "    n = n + 5\n",
    "    t = time.time()\n",
    "    test_fermat(n)\n",
    "    naif.append(time.time()-t)\n",
    "    t = time.time()\n",
    "    premier(n)\n",
    "    fermat.append(time.time()-t)\n",
    "  naif_moy.append(np.array(naif).mean())\n",
    "  fermat_moy.append(np.array(fermat).mean())\n"
   ]
  },
  {
   "cell_type": "code",
   "execution_count": 41,
   "metadata": {
    "colab": {
     "base_uri": "https://localhost:8080/",
     "height": 265
    },
    "colab_type": "code",
    "id": "fqpPD0fZZNJv",
    "outputId": "99b061e0-a6bb-47cb-cc06-d1940cca4b96"
   },
   "outputs": [
    {
     "data": {
      "image/png": "[encoded data removed]",
      "text/plain": [
       "<Figure size 432x288 with 1 Axes>"
      ]
     },
     "metadata": {
      "needs_background": "light",
      "tags": []
     },
     "output_type": "display_data"
    }
   ],
   "source": [
    "plt.plot(np.log(tailles),np.log(naif_moy),color=\"red\")\n",
    "plt.plot(np.log(tailles),np.log(fermat_moy),color=\"blue\")\n",
    "plt.show()"
   ]
  },
  {
   "cell_type": "code",
   "execution_count": 0,
   "metadata": {
    "colab": {},
    "colab_type": "code",
    "id": "Sjn21Rv9bw2W"
   },
   "outputs": [],
   "source": []
  }
 ],
 "metadata": {
  "accelerator": "GPU",
  "colab": {
   "collapsed_sections": [],
   "name": "MC Workshop Python Basics  - Solution",
   "provenance": []
  },
  "kernelspec": {
   "display_name": "Python 3",
   "language": "python",
   "name": "python3"
  },
  "language_info": {
   "codemirror_mode": {
    "name": "ipython",
    "version": 3
   },
   "file_extension": ".py",
   "mimetype": "text/x-python",
   "name": "python",
   "nbconvert_exporter": "python",
   "pygments_lexer": "ipython3",
   "version": "3.7.4"
  }
 },
 "nbformat": 4,
 "nbformat_minor": 1
}
